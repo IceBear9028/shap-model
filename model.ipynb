{
 "cells": [
  {
   "cell_type": "code",
   "execution_count": 2,
   "metadata": {},
   "outputs": [
    {
     "name": "stderr",
     "output_type": "stream",
     "text": [
      "IProgress not found. Please update jupyter and ipywidgets. See https://ipywidgets.readthedocs.io/en/stable/user_install.html\n"
     ]
    }
   ],
   "source": [
    "import pandas as pd\n",
    "import xgboost\n",
    "from sklearn.model_selection import train_test_split\n",
    "import sqlite3\n",
    "import os\n",
    "import shap"
   ]
  },
  {
   "cell_type": "code",
   "execution_count": 3,
   "metadata": {},
   "outputs": [],
   "source": [
    "conn = sqlite3.connect(\"./data/Database.db\")\n",
    "cursor = conn.cursor()\n",
    "query = \"SELECT * FROM DVC0004\"\n",
    "df = pd.read_sql_query(query, conn)\n",
    "# STUATUS_MS =1 이 정상, 2가 비정상"
   ]
  },
  {
   "cell_type": "code",
   "execution_count": 4,
   "metadata": {},
   "outputs": [
    {
     "name": "stdout",
     "output_type": "stream",
     "text": [
      "비정상 데이터 갯수:  21\n",
      "정상 데이터 갯수:  833263\n"
     ]
    }
   ],
   "source": [
    "print(\"비정상 데이터 갯수: \", len(df[df.STATUS_MS==2]))\n",
    "print(\"정상 데이터 갯수: \", len(df[df.STATUS_MS==1]))"
   ]
  },
  {
   "cell_type": "code",
   "execution_count": 5,
   "metadata": {},
   "outputs": [
    {
     "ename": "KeyError",
     "evalue": "\"[''] not found in axis\"",
     "output_type": "error",
     "traceback": [
      "\u001b[0;31m---------------------------------------------------------------------------\u001b[0m",
      "\u001b[0;31mKeyError\u001b[0m                                  Traceback (most recent call last)",
      "\u001b[1;32m/Users/isang-yun/code/shap-model/model.ipynb 셀 4\u001b[0m line \u001b[0;36m3\n\u001b[1;32m      <a href='vscode-notebook-cell:/Users/isang-yun/code/shap-model/model.ipynb#W3sZmlsZQ%3D%3D?line=0'>1</a>\u001b[0m \u001b[39m# 예시 데이터 import \u001b[39;00m\n\u001b[1;32m      <a href='vscode-notebook-cell:/Users/isang-yun/code/shap-model/model.ipynb#W3sZmlsZQ%3D%3D?line=1'>2</a>\u001b[0m \u001b[39m# 예시 모델 학습\u001b[39;00m\n\u001b[0;32m----> <a href='vscode-notebook-cell:/Users/isang-yun/code/shap-model/model.ipynb#W3sZmlsZQ%3D%3D?line=2'>3</a>\u001b[0m x \u001b[39m=\u001b[39m df\u001b[39m.\u001b[39;49mdrop(\u001b[39m\"\u001b[39;49m\u001b[39m\"\u001b[39;49m)\n\u001b[1;32m      <a href='vscode-notebook-cell:/Users/isang-yun/code/shap-model/model.ipynb#W3sZmlsZQ%3D%3D?line=4'>5</a>\u001b[0m model \u001b[39m=\u001b[39m xgboost\u001b[39m.\u001b[39mXGBRegressor()\u001b[39m.\u001b[39mfit(X, y)\n",
      "File \u001b[0;32m~/miniconda3/envs/shap_model_env/lib/python3.9/site-packages/pandas/core/frame.py:5347\u001b[0m, in \u001b[0;36mDataFrame.drop\u001b[0;34m(self, labels, axis, index, columns, level, inplace, errors)\u001b[0m\n\u001b[1;32m   5199\u001b[0m \u001b[39mdef\u001b[39;00m \u001b[39mdrop\u001b[39m(\n\u001b[1;32m   5200\u001b[0m     \u001b[39mself\u001b[39m,\n\u001b[1;32m   5201\u001b[0m     labels: IndexLabel \u001b[39m|\u001b[39m \u001b[39mNone\u001b[39;00m \u001b[39m=\u001b[39m \u001b[39mNone\u001b[39;00m,\n\u001b[0;32m   (...)\u001b[0m\n\u001b[1;32m   5208\u001b[0m     errors: IgnoreRaise \u001b[39m=\u001b[39m \u001b[39m\"\u001b[39m\u001b[39mraise\u001b[39m\u001b[39m\"\u001b[39m,\n\u001b[1;32m   5209\u001b[0m ) \u001b[39m-\u001b[39m\u001b[39m>\u001b[39m DataFrame \u001b[39m|\u001b[39m \u001b[39mNone\u001b[39;00m:\n\u001b[1;32m   5210\u001b[0m \u001b[39m    \u001b[39m\u001b[39m\"\"\"\u001b[39;00m\n\u001b[1;32m   5211\u001b[0m \u001b[39m    Drop specified labels from rows or columns.\u001b[39;00m\n\u001b[1;32m   5212\u001b[0m \n\u001b[0;32m   (...)\u001b[0m\n\u001b[1;32m   5345\u001b[0m \u001b[39m            weight  1.0     0.8\u001b[39;00m\n\u001b[1;32m   5346\u001b[0m \u001b[39m    \"\"\"\u001b[39;00m\n\u001b[0;32m-> 5347\u001b[0m     \u001b[39mreturn\u001b[39;00m \u001b[39msuper\u001b[39;49m()\u001b[39m.\u001b[39;49mdrop(\n\u001b[1;32m   5348\u001b[0m         labels\u001b[39m=\u001b[39;49mlabels,\n\u001b[1;32m   5349\u001b[0m         axis\u001b[39m=\u001b[39;49maxis,\n\u001b[1;32m   5350\u001b[0m         index\u001b[39m=\u001b[39;49mindex,\n\u001b[1;32m   5351\u001b[0m         columns\u001b[39m=\u001b[39;49mcolumns,\n\u001b[1;32m   5352\u001b[0m         level\u001b[39m=\u001b[39;49mlevel,\n\u001b[1;32m   5353\u001b[0m         inplace\u001b[39m=\u001b[39;49minplace,\n\u001b[1;32m   5354\u001b[0m         errors\u001b[39m=\u001b[39;49merrors,\n\u001b[1;32m   5355\u001b[0m     )\n",
      "File \u001b[0;32m~/miniconda3/envs/shap_model_env/lib/python3.9/site-packages/pandas/core/generic.py:4711\u001b[0m, in \u001b[0;36mNDFrame.drop\u001b[0;34m(self, labels, axis, index, columns, level, inplace, errors)\u001b[0m\n\u001b[1;32m   4709\u001b[0m \u001b[39mfor\u001b[39;00m axis, labels \u001b[39min\u001b[39;00m axes\u001b[39m.\u001b[39mitems():\n\u001b[1;32m   4710\u001b[0m     \u001b[39mif\u001b[39;00m labels \u001b[39mis\u001b[39;00m \u001b[39mnot\u001b[39;00m \u001b[39mNone\u001b[39;00m:\n\u001b[0;32m-> 4711\u001b[0m         obj \u001b[39m=\u001b[39m obj\u001b[39m.\u001b[39;49m_drop_axis(labels, axis, level\u001b[39m=\u001b[39;49mlevel, errors\u001b[39m=\u001b[39;49merrors)\n\u001b[1;32m   4713\u001b[0m \u001b[39mif\u001b[39;00m inplace:\n\u001b[1;32m   4714\u001b[0m     \u001b[39mself\u001b[39m\u001b[39m.\u001b[39m_update_inplace(obj)\n",
      "File \u001b[0;32m~/miniconda3/envs/shap_model_env/lib/python3.9/site-packages/pandas/core/generic.py:4753\u001b[0m, in \u001b[0;36mNDFrame._drop_axis\u001b[0;34m(self, labels, axis, level, errors, only_slice)\u001b[0m\n\u001b[1;32m   4751\u001b[0m         new_axis \u001b[39m=\u001b[39m axis\u001b[39m.\u001b[39mdrop(labels, level\u001b[39m=\u001b[39mlevel, errors\u001b[39m=\u001b[39merrors)\n\u001b[1;32m   4752\u001b[0m     \u001b[39melse\u001b[39;00m:\n\u001b[0;32m-> 4753\u001b[0m         new_axis \u001b[39m=\u001b[39m axis\u001b[39m.\u001b[39;49mdrop(labels, errors\u001b[39m=\u001b[39;49merrors)\n\u001b[1;32m   4754\u001b[0m     indexer \u001b[39m=\u001b[39m axis\u001b[39m.\u001b[39mget_indexer(new_axis)\n\u001b[1;32m   4756\u001b[0m \u001b[39m# Case for non-unique axis\u001b[39;00m\n\u001b[1;32m   4757\u001b[0m \u001b[39melse\u001b[39;00m:\n",
      "File \u001b[0;32m~/miniconda3/envs/shap_model_env/lib/python3.9/site-packages/pandas/core/indexes/base.py:6992\u001b[0m, in \u001b[0;36mIndex.drop\u001b[0;34m(self, labels, errors)\u001b[0m\n\u001b[1;32m   6990\u001b[0m \u001b[39mif\u001b[39;00m mask\u001b[39m.\u001b[39many():\n\u001b[1;32m   6991\u001b[0m     \u001b[39mif\u001b[39;00m errors \u001b[39m!=\u001b[39m \u001b[39m\"\u001b[39m\u001b[39mignore\u001b[39m\u001b[39m\"\u001b[39m:\n\u001b[0;32m-> 6992\u001b[0m         \u001b[39mraise\u001b[39;00m \u001b[39mKeyError\u001b[39;00m(\u001b[39mf\u001b[39m\u001b[39m\"\u001b[39m\u001b[39m{\u001b[39;00mlabels[mask]\u001b[39m.\u001b[39mtolist()\u001b[39m}\u001b[39;00m\u001b[39m not found in axis\u001b[39m\u001b[39m\"\u001b[39m)\n\u001b[1;32m   6993\u001b[0m     indexer \u001b[39m=\u001b[39m indexer[\u001b[39m~\u001b[39mmask]\n\u001b[1;32m   6994\u001b[0m \u001b[39mreturn\u001b[39;00m \u001b[39mself\u001b[39m\u001b[39m.\u001b[39mdelete(indexer)\n",
      "\u001b[0;31mKeyError\u001b[0m: \"[''] not found in axis\""
     ]
    }
   ],
   "source": [
    "# 예시 데이터 import \n",
    "# 예시 모델 학습\n",
    "x = df.drop(\"\")\n",
    "\n",
    "model = xgboost.XGBRegressor().fit(X, y)"
   ]
  },
  {
   "cell_type": "code",
   "execution_count": 3,
   "metadata": {},
   "outputs": [
    {
     "name": "stdout",
     "output_type": "stream",
     "text": [
      "<class 'xgboost.sklearn.XGBRegressor'>\n"
     ]
    }
   ],
   "source": [
    "print(type(model))"
   ]
  },
  {
   "cell_type": "code",
   "execution_count": 12,
   "metadata": {},
   "outputs": [
    {
     "name": "stderr",
     "output_type": "stream",
     "text": [
      "[17:09:25] WARNING: /Users/runner/work/xgboost/xgboost/src/c_api/c_api.cc:1240: Saving into deprecated binary model format, please consider using `json` or `ubj`. Model format will default to JSON in XGBoost 2.2 if not specified.\n",
      "is_sparse is deprecated and will be removed in a future version. Check `isinstance(dtype, pd.SparseDtype)` instead.\n",
      "is_categorical_dtype is deprecated and will be removed in a future version. Use isinstance(dtype, CategoricalDtype) instead\n",
      "is_categorical_dtype is deprecated and will be removed in a future version. Use isinstance(dtype, CategoricalDtype) instead\n",
      "is_categorical_dtype is deprecated and will be removed in a future version. Use isinstance(dtype, CategoricalDtype) instead\n"
     ]
    }
   ],
   "source": [
    "explainer = shap.Explainer(model)\n",
    "shap_values = explainer(X)"
   ]
  },
  {
   "cell_type": "code",
   "execution_count": 26,
   "metadata": {},
   "outputs": [
    {
     "name": "stdout",
     "output_type": "stream",
     "text": [
      "{'op_history': [], 'compute_time': 0.01924300193786621, 'output_dims': (), '_s': Slicer({'o': [], 'values': array([[-2.0645633 ,  0.3229129 ,  3.4250062 , -0.17508136],\n",
      "       [-0.1587886 , -0.6946155 ,  0.46563995, -0.18548098],\n",
      "       [ 8.874442  , -0.21311583,  3.1282141 , -0.09238403],\n",
      "       ...,\n",
      "       [ 2.711311  , -0.3008216 , -1.2592615 , -0.14786682],\n",
      "       [ 1.8276973 , -0.3396507 , -1.6782764 , -0.11290564],\n",
      "       [-4.5272784 , -0.6454306 , -3.9130943 , -0.17274114]],\n",
      "      dtype=float32), 'base_values': array([22.530926, 22.530926, 22.530926, 22.530926, 22.530926, 22.530926,\n",
      "       22.530926, 22.530926, 22.530926, 22.530926, 22.530926, 22.530926,\n",
      "       22.530926, 22.530926, 22.530926, 22.530926, 22.530926, 22.530926,\n",
      "       22.530926, 22.530926, 22.530926, 22.530926, 22.530926, 22.530926,\n",
      "       22.530926, 22.530926, 22.530926, 22.530926, 22.530926, 22.530926,\n",
      "       22.530926, 22.530926, 22.530926, 22.530926, 22.530926, 22.530926,\n",
      "       22.530926, 22.530926, 22.530926, 22.530926, 22.530926, 22.530926,\n",
      "       22.530926, 22.530926, 22.530926, 22.530926, 22.530926, 22.530926,\n",
      "       22.530926, 22.530926, 22.530926, 22.530926, 22.530926, 22.530926,\n",
      "       22.530926, 22.530926, 22.530926, 22.530926, 22.530926, 22.530926,\n",
      "       22.530926, 22.530926, 22.530926, 22.530926, 22.530926, 22.530926,\n",
      "       22.530926, 22.530926, 22.530926, 22.530926, 22.530926, 22.530926,\n",
      "       22.530926, 22.530926, 22.530926, 22.530926, 22.530926, 22.530926,\n",
      "       22.530926, 22.530926, 22.530926, 22.530926, 22.530926, 22.530926,\n",
      "       22.530926, 22.530926, 22.530926, 22.530926, 22.530926, 22.530926,\n",
      "       22.530926, 22.530926, 22.530926, 22.530926, 22.530926, 22.530926,\n",
      "       22.530926, 22.530926, 22.530926, 22.530926, 22.530926, 22.530926,\n",
      "       22.530926, 22.530926, 22.530926, 22.530926, 22.530926, 22.530926,\n",
      "       22.530926, 22.530926, 22.530926, 22.530926, 22.530926, 22.530926,\n",
      "       22.530926, 22.530926, 22.530926, 22.530926, 22.530926, 22.530926,\n",
      "       22.530926, 22.530926, 22.530926, 22.530926, 22.530926, 22.530926,\n",
      "       22.530926, 22.530926, 22.530926, 22.530926, 22.530926, 22.530926,\n",
      "       22.530926, 22.530926, 22.530926, 22.530926, 22.530926, 22.530926,\n",
      "       22.530926, 22.530926, 22.530926, 22.530926, 22.530926, 22.530926,\n",
      "       22.530926, 22.530926, 22.530926, 22.530926, 22.530926, 22.530926,\n",
      "       22.530926, 22.530926, 22.530926, 22.530926, 22.530926, 22.530926,\n",
      "       22.530926, 22.530926, 22.530926, 22.530926, 22.530926, 22.530926,\n",
      "       22.530926, 22.530926, 22.530926, 22.530926, 22.530926, 22.530926,\n",
      "       22.530926, 22.530926, 22.530926, 22.530926, 22.530926, 22.530926,\n",
      "       22.530926, 22.530926, 22.530926, 22.530926, 22.530926, 22.530926,\n",
      "       22.530926, 22.530926, 22.530926, 22.530926, 22.530926, 22.530926,\n",
      "       22.530926, 22.530926, 22.530926, 22.530926, 22.530926, 22.530926,\n",
      "       22.530926, 22.530926, 22.530926, 22.530926, 22.530926, 22.530926,\n",
      "       22.530926, 22.530926, 22.530926, 22.530926, 22.530926, 22.530926,\n",
      "       22.530926, 22.530926, 22.530926, 22.530926, 22.530926, 22.530926,\n",
      "       22.530926, 22.530926, 22.530926, 22.530926, 22.530926, 22.530926,\n",
      "       22.530926, 22.530926, 22.530926, 22.530926, 22.530926, 22.530926,\n",
      "       22.530926, 22.530926, 22.530926, 22.530926, 22.530926, 22.530926,\n",
      "       22.530926, 22.530926, 22.530926, 22.530926, 22.530926, 22.530926,\n",
      "       22.530926, 22.530926, 22.530926, 22.530926, 22.530926, 22.530926,\n",
      "       22.530926, 22.530926, 22.530926, 22.530926, 22.530926, 22.530926,\n",
      "       22.530926, 22.530926, 22.530926, 22.530926, 22.530926, 22.530926,\n",
      "       22.530926, 22.530926, 22.530926, 22.530926, 22.530926, 22.530926,\n",
      "       22.530926, 22.530926, 22.530926, 22.530926, 22.530926, 22.530926,\n",
      "       22.530926, 22.530926, 22.530926, 22.530926, 22.530926, 22.530926,\n",
      "       22.530926, 22.530926, 22.530926, 22.530926, 22.530926, 22.530926,\n",
      "       22.530926, 22.530926, 22.530926, 22.530926, 22.530926, 22.530926,\n",
      "       22.530926, 22.530926, 22.530926, 22.530926, 22.530926, 22.530926,\n",
      "       22.530926, 22.530926, 22.530926, 22.530926, 22.530926, 22.530926,\n",
      "       22.530926, 22.530926, 22.530926, 22.530926, 22.530926, 22.530926,\n",
      "       22.530926, 22.530926, 22.530926, 22.530926, 22.530926, 22.530926,\n",
      "       22.530926, 22.530926, 22.530926, 22.530926, 22.530926, 22.530926,\n",
      "       22.530926, 22.530926, 22.530926, 22.530926, 22.530926, 22.530926,\n",
      "       22.530926, 22.530926, 22.530926, 22.530926, 22.530926, 22.530926,\n",
      "       22.530926, 22.530926, 22.530926, 22.530926, 22.530926, 22.530926,\n",
      "       22.530926, 22.530926, 22.530926, 22.530926, 22.530926, 22.530926,\n",
      "       22.530926, 22.530926, 22.530926, 22.530926, 22.530926, 22.530926,\n",
      "       22.530926, 22.530926, 22.530926, 22.530926, 22.530926, 22.530926,\n",
      "       22.530926, 22.530926, 22.530926, 22.530926, 22.530926, 22.530926,\n",
      "       22.530926, 22.530926, 22.530926, 22.530926, 22.530926, 22.530926,\n",
      "       22.530926, 22.530926, 22.530926, 22.530926, 22.530926, 22.530926,\n",
      "       22.530926, 22.530926, 22.530926, 22.530926, 22.530926, 22.530926,\n",
      "       22.530926, 22.530926, 22.530926, 22.530926, 22.530926, 22.530926,\n",
      "       22.530926, 22.530926, 22.530926, 22.530926, 22.530926, 22.530926,\n",
      "       22.530926, 22.530926, 22.530926, 22.530926, 22.530926, 22.530926,\n",
      "       22.530926, 22.530926, 22.530926, 22.530926, 22.530926, 22.530926,\n",
      "       22.530926, 22.530926, 22.530926, 22.530926, 22.530926, 22.530926,\n",
      "       22.530926, 22.530926, 22.530926, 22.530926, 22.530926, 22.530926,\n",
      "       22.530926, 22.530926, 22.530926, 22.530926, 22.530926, 22.530926,\n",
      "       22.530926, 22.530926, 22.530926, 22.530926, 22.530926, 22.530926,\n",
      "       22.530926, 22.530926, 22.530926, 22.530926, 22.530926, 22.530926,\n",
      "       22.530926, 22.530926, 22.530926, 22.530926, 22.530926, 22.530926,\n",
      "       22.530926, 22.530926, 22.530926, 22.530926, 22.530926, 22.530926,\n",
      "       22.530926, 22.530926, 22.530926, 22.530926, 22.530926, 22.530926,\n",
      "       22.530926, 22.530926, 22.530926, 22.530926, 22.530926, 22.530926,\n",
      "       22.530926, 22.530926, 22.530926, 22.530926, 22.530926, 22.530926,\n",
      "       22.530926, 22.530926, 22.530926, 22.530926, 22.530926, 22.530926,\n",
      "       22.530926, 22.530926, 22.530926, 22.530926, 22.530926, 22.530926,\n",
      "       22.530926, 22.530926, 22.530926, 22.530926, 22.530926, 22.530926,\n",
      "       22.530926, 22.530926, 22.530926, 22.530926, 22.530926, 22.530926,\n",
      "       22.530926, 22.530926, 22.530926, 22.530926, 22.530926, 22.530926,\n",
      "       22.530926, 22.530926, 22.530926, 22.530926, 22.530926, 22.530926,\n",
      "       22.530926, 22.530926, 22.530926, 22.530926, 22.530926, 22.530926,\n",
      "       22.530926, 22.530926, 22.530926, 22.530926, 22.530926, 22.530926,\n",
      "       22.530926, 22.530926], dtype=float32), 'data': array([[6.3200e-03, 1.8000e+01, 2.3100e+00, 0.0000e+00],\n",
      "       [2.7310e-02, 0.0000e+00, 7.0700e+00, 0.0000e+00],\n",
      "       [2.7290e-02, 0.0000e+00, 7.0700e+00, 0.0000e+00],\n",
      "       ...,\n",
      "       [6.0760e-02, 0.0000e+00, 1.1930e+01, 0.0000e+00],\n",
      "       [1.0959e-01, 0.0000e+00, 1.1930e+01, 0.0000e+00],\n",
      "       [4.7410e-02, 0.0000e+00, 1.1930e+01, 0.0000e+00]]), 'display_data': None, 'instance_names': None, 'output_names': None, 'output_indexes': None, 'lower_bounds': None, 'upper_bounds': None, 'error_std': None, 'main_effects': None, 'hierarchical_values': None, 'clustering': None})}\n"
     ]
    }
   ],
   "source": [
    "print(shap_values.__dict__)"
   ]
  },
  {
   "cell_type": "code",
   "execution_count": 5,
   "metadata": {},
   "outputs": [
    {
     "data": {
      "image/png": "[encoded data removed]",
      "text/plain": [
       "<Figure size 800x350 with 3 Axes>"
      ]
     },
     "metadata": {},
     "output_type": "display_data"
    }
   ],
   "source": [
    "shap.plots.waterfall(shap_values[0])"
   ]
  },
  {
   "cell_type": "code",
   "execution_count": 28,
   "metadata": {},
   "outputs": [
    {
     "name": "stdout",
     "output_type": "stream",
     "text": [
      "{'op_history': [{'name': '__getitem__', 'args': ((0,),), 'prev_shape': (506, 4)}], 'compute_time': None, 'output_dims': (), '_s': Slicer({'o': [], 'values': array([-2.0645633 ,  0.3229129 ,  3.4250062 , -0.17508136], dtype=float32), 'base_values': 22.530926, 'data': array([6.32e-03, 1.80e+01, 2.31e+00, 0.00e+00]), 'display_data': None, 'instance_names': None, 'output_names': None, 'output_indexes': None, 'lower_bounds': None, 'upper_bounds': None, 'error_std': None, 'main_effects': None, 'hierarchical_values': None, 'clustering': None})}\n"
     ]
    }
   ],
   "source": [
    "print(shap_values[0].__dict__)"
   ]
  },
  {
   "cell_type": "code",
   "execution_count": 31,
   "metadata": {},
   "outputs": [
    {
     "data": {
      "text/plain": [
       "Index(['CRIM', 'ZN', 'INDUS', 'CHAS'], dtype='object')"
      ]
     },
     "execution_count": 31,
     "metadata": {},
     "output_type": "execute_result"
    }
   ],
   "source": [
    "X.columns"
   ]
  },
  {
   "cell_type": "code",
   "execution_count": null,
   "metadata": {},
   "outputs": [],
   "source": []
  }
 ],
 "metadata": {
  "kernelspec": {
   "display_name": "dev_shap_model",
   "language": "python",
   "name": "python3"
  },
  "language_info": {
   "codemirror_mode": {
    "name": "ipython",
    "version": 3
   },
   "file_extension": ".py",
   "mimetype": "text/x-python",
   "name": "python",
   "nbconvert_exporter": "python",
   "pygments_lexer": "ipython3",
   "version": "3.9.17"
  },
  "orig_nbformat": 4
 },
 "nbformat": 4,
 "nbformat_minor": 2
}
