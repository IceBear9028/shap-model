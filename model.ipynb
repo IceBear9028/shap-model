{
 "cells": [
  {
   "cell_type": "code",
   "execution_count": 1,
   "metadata": {},
   "outputs": [
    {
     "name": "stderr",
     "output_type": "stream",
     "text": [
      "IProgress not found. Please update jupyter and ipywidgets. See https://ipywidgets.readthedocs.io/en/stable/user_install.html\n"
     ]
    }
   ],
   "source": [
    "import pandas as pd\n",
    "import xgboost\n",
    "from sklearn.model_selection import train_test_split\n",
    "import sqlite3\n",
    "import os\n",
    "import shap"
   ]
  },
  {
   "cell_type": "markdown",
   "metadata": {},
   "source": [
    "## 데이터 불러오기\n",
    "~~~\n",
    "테이블 이름 : DVC0003, DVC0004, DVC0005\n",
    "~~~\n",
    "\n",
    "> * ### 1. 데이터 불러오기\n",
    "> * ### 2. 데이터 확인\n",
    ">   * ##### a. DVC 별 .info() 확인\n",
    ">   * ##### b. 정상/비정상 별 데이터 개수 확인\n",
    "> * #### 3. 데이터 전처리\n",
    ">   * ##### a. 문자열 칼럼 삭제\n",
    ">   * ##### b. 학습 데이터 셋 생성"
   ]
  },
  {
   "cell_type": "code",
   "execution_count": 2,
   "metadata": {},
   "outputs": [],
   "source": [
    "# 1. 데이터 불러오기\n",
    "\n",
    "conn = sqlite3.connect(\"./data/Database.db\")\n",
    "cursor = conn.cursor()\n",
    "\n",
    "query_003 = \"SELECT * FROM DVC0003\"\n",
    "query_004 = \"SELECT * FROM DVC0004\"\n",
    "query_005 = \"SELECT * FROM DVC0005\"\n",
    "\n",
    "df_0003 = pd.read_sql_query(query_003, conn)\n",
    "df_0004 = pd.read_sql_query(query_004, conn)\n",
    "df_0005 = pd.read_sql_query(query_005, conn)"
   ]
  },
  {
   "cell_type": "code",
   "execution_count": 3,
   "metadata": {},
   "outputs": [],
   "source": [
    "# 추후 데이터 가공시 편하게 하기 위해 리스트에 변수들 담음\n",
    "list_df = [df_0003, df_0004, df_0005]"
   ]
  },
  {
   "cell_type": "code",
   "execution_count": 4,
   "metadata": {},
   "outputs": [
    {
     "name": "stdout",
     "output_type": "stream",
     "text": [
      "<class 'pandas.core.frame.DataFrame'>\n",
      "RangeIndex: 833349 entries, 0 to 833348\n",
      "Data columns (total 24 columns):\n",
      " #   Column                Non-Null Count   Dtype  \n",
      "---  ------                --------------   -----  \n",
      " 0   MODELNO               833349 non-null  object \n",
      " 1   DEVICECODE            833349 non-null  object \n",
      " 2   MP_PRDTIME            833349 non-null  object \n",
      " 3   STATUS_MS             833349 non-null  int64  \n",
      " 4   MP_MINUTE             833349 non-null  object \n",
      " 5   System Pressure       833349 non-null  float64\n",
      " 6   Discharge Pressure    833349 non-null  float64\n",
      " 7   Stage 3 Inlet Temp    833349 non-null  float64\n",
      " 8   Stage 1 Vibration     833349 non-null  float64\n",
      " 9   Stage 2 Vibration     833349 non-null  float64\n",
      " 10  Stage 3 Vibration     833349 non-null  float64\n",
      " 11  Oil Pressure          833349 non-null  float64\n",
      " 12  Oil Temperature       833349 non-null  float64\n",
      " 13  Drive Motor Current   833349 non-null  float64\n",
      " 14  Surge Count           833349 non-null  float64\n",
      " 15  Surge Control Point   833349 non-null  float64\n",
      " 16  Blow-Off Position     833349 non-null  float64\n",
      " 17  Oil level Switch      833349 non-null  float64\n",
      " 18  Motor Running Signal  833349 non-null  float64\n",
      " 19  Emergency Stop        833349 non-null  float64\n",
      " 20  Starter Fault         833349 non-null  float64\n",
      " 21  Surge Watch Motor     833349 non-null  float64\n",
      " 22  Inlet Position        833349 non-null  float64\n",
      " 23  Voltage I/O Module 1  833349 non-null  float64\n",
      "dtypes: float64(19), int64(1), object(4)\n",
      "memory usage: 152.6+ MB\n",
      "None\n",
      "==========================================================\n",
      "<class 'pandas.core.frame.DataFrame'>\n",
      "RangeIndex: 833284 entries, 0 to 833283\n",
      "Data columns (total 30 columns):\n",
      " #   Column                    Non-Null Count   Dtype  \n",
      "---  ------                    --------------   -----  \n",
      " 0   MODELNO                   833284 non-null  object \n",
      " 1   DEVICECODE                833284 non-null  object \n",
      " 2   MP_PRDTIME                833284 non-null  object \n",
      " 3   STATUS_MS                 833284 non-null  int64  \n",
      " 4   MP_MINUTE                 833284 non-null  object \n",
      " 5   System Pressure           833284 non-null  float64\n",
      " 6   Discharge Pressure        833284 non-null  float64\n",
      " 7   Stage 3 Inlet Temp        833284 non-null  float64\n",
      " 8   Stage 1  Vibration        833284 non-null  float64\n",
      " 9   Stage 2  Vibration        833284 non-null  float64\n",
      " 10  Stage 3  Vibration        833284 non-null  float64\n",
      " 11  Oil Pressure              833284 non-null  float64\n",
      " 12  Oil Temperature           833284 non-null  float64\n",
      " 13  Drive Motor Current       833284 non-null  float64\n",
      " 14  Surge Count               833284 non-null  float64\n",
      " 15  Surge Control Point       833284 non-null  float64\n",
      " 16  Blow-Off Position         833284 non-null  float64\n",
      " 17  Inlet Air Filter D-Press  833284 non-null  float64\n",
      " 18  Discharge Temperature     833284 non-null  float64\n",
      " 19  Oil level Switch          833284 non-null  float64\n",
      " 20  Motor Stator A Temp       833284 non-null  float64\n",
      " 21  Motor Stator B Temp       833284 non-null  float64\n",
      " 22  Motor Stator C Temp       833284 non-null  float64\n",
      " 23  Motor DE Bearing Temp     833284 non-null  float64\n",
      " 24  Motor NDE Bearing Temp    833284 non-null  float64\n",
      " 25  Emergency Stop            833284 non-null  float64\n",
      " 26  Surge Watch Motor         833284 non-null  float64\n",
      " 27  Inlet Position            833284 non-null  float64\n",
      " 28  Voltage I/O Module 1      833284 non-null  float64\n",
      " 29  Coolant Inlet Temp        833284 non-null  float64\n",
      "dtypes: float64(25), int64(1), object(4)\n",
      "memory usage: 190.7+ MB\n",
      "None\n",
      "==========================================================\n",
      "<class 'pandas.core.frame.DataFrame'>\n",
      "RangeIndex: 833336 entries, 0 to 833335\n",
      "Data columns (total 33 columns):\n",
      " #   Column                    Non-Null Count   Dtype  \n",
      "---  ------                    --------------   -----  \n",
      " 0   MODELNO                   833336 non-null  object \n",
      " 1   DEVICECODE                833336 non-null  object \n",
      " 2   MP_PRDTIME                833336 non-null  object \n",
      " 3   STATUS_MS                 833336 non-null  int64  \n",
      " 4   MP_MINUTE                 833336 non-null  object \n",
      " 5   System Pressure           833336 non-null  float64\n",
      " 6   Discharge Pressure        833336 non-null  float64\n",
      " 7   Stage 3 Inlet Temp        833336 non-null  float64\n",
      " 8   Stage 1  Vibration        833336 non-null  float64\n",
      " 9   Stage 2  Vibration        833336 non-null  float64\n",
      " 10  Stage 3  Vibration        833336 non-null  float64\n",
      " 11  Oil Pressure              833336 non-null  float64\n",
      " 12  Oil Temperature           833336 non-null  float64\n",
      " 13  Drive Motor Current       833336 non-null  float64\n",
      " 14  Surge Count               833336 non-null  float64\n",
      " 15  Surge Control Point       833336 non-null  float64\n",
      " 16  Blow-Off Position         833336 non-null  float64\n",
      " 17  Inlet Air Filter D-Press  833336 non-null  float64\n",
      " 18  Discharge Temperature     833336 non-null  float64\n",
      " 19  Oil Before Filter Press   833336 non-null  float64\n",
      " 20  Oil Filter D-Press Calc   833336 non-null  float64\n",
      " 21  Oil level Switch          833336 non-null  float64\n",
      " 22  Motor Stator A Temp       833336 non-null  float64\n",
      " 23  Motor Stator B Temp       833336 non-null  float64\n",
      " 24  Motor Stator C Temp       833336 non-null  float64\n",
      " 25  Motor DE Bearing Temp     833336 non-null  float64\n",
      " 26  Motor NDE Bearing Temp    833336 non-null  float64\n",
      " 27  Motor Running Signal      833336 non-null  float64\n",
      " 28  Emergency Stop            833336 non-null  float64\n",
      " 29  Surge Watch Motor         833336 non-null  float64\n",
      " 30  Inlet Position            833336 non-null  float64\n",
      " 31  Voltage I/O Module 1      833336 non-null  float64\n",
      " 32  Coolant Inlet Temp        833336 non-null  float64\n",
      "dtypes: float64(28), int64(1), object(4)\n",
      "memory usage: 209.8+ MB\n",
      "None\n",
      "==========================================================\n"
     ]
    }
   ],
   "source": [
    "# 2 .데이터 확인\n",
    "#   a. .info() 데이터 확인\n",
    "\n",
    "for df in list_df:\n",
    "    print(df.info())\n",
    "    print('==========================================================')"
   ]
  },
  {
   "cell_type": "code",
   "execution_count": 5,
   "metadata": {},
   "outputs": [
    {
     "name": "stdout",
     "output_type": "stream",
     "text": [
      "df 이름 : df_0003\n",
      "---------------------\n",
      "전체 데이터 개수 : 833349\n",
      "정상 데이터 갯수:  832307\n",
      "비정상 데이터 갯수:  1042\n",
      "\n",
      "\n",
      "df 이름 : df_0004\n",
      "---------------------\n",
      "전체 데이터 개수 : 833284\n",
      "정상 데이터 갯수:  833263\n",
      "비정상 데이터 갯수:  21\n",
      "\n",
      "\n",
      "df 이름 : df_0005\n",
      "---------------------\n",
      "전체 데이터 개수 : 833336\n",
      "정상 데이터 갯수:  833327\n",
      "비정상 데이터 갯수:  9\n",
      "\n",
      "\n"
     ]
    }
   ],
   "source": [
    "# 2 .데이터 확인\n",
    "#   b. 정상/비정상 별 데이터 개수 확인\n",
    "\n",
    "for df in list_df:\n",
    "    # 변수이름 추출\n",
    "    vnames = [name for name in globals() if globals()[name] is df]\n",
    "\n",
    "    print(\"df 이름 : {}\".format(vnames[0]))\n",
    "    print(\"---------------------\")\n",
    "    print(\"전체 데이터 개수 : {}\".format(len(df)))\n",
    "    print(\"정상 데이터 갯수: \", len(df[df.STATUS_MS==1]))\n",
    "    print(\"비정상 데이터 갯수: \", len(df[df.STATUS_MS==2]))\n",
    "    print(\"\\n\")\n"
   ]
  },
  {
   "cell_type": "code",
   "execution_count": 15,
   "metadata": {},
   "outputs": [],
   "source": [
    "# 3. 데이터 전처리\n",
    "#   a. 문자열 칼럼 삭제\n",
    "\n",
    "del_column_list = [\"MODELNO\", \"DEVICECODE\", \"MP_PRDTIME\", \"MP_MINUTE\"]\n",
    "\n",
    "# 동적 변수로 전처리 df 생성\n",
    "# pp_df_0003, pp_df_0004, pp_df_0005\n",
    "for df in list_df: \n",
    "    vnames = [name for name in globals() if globals()[name] is df]\n",
    "    drop_df = df.drop(del_column_list, axis = \"columns\")\n",
    "    drop_df[\"STATUS_MS\"] = drop_df[\"STATUS_MS\"].replace({1 : 0, 2 : 1})\n",
    "    globals()[\"pp_{}\".format(vnames[0])] = drop_df"
   ]
  },
  {
   "cell_type": "code",
   "execution_count": 16,
   "metadata": {},
   "outputs": [],
   "source": [
    "pp_df_list = [pp_df_0003, pp_df_0004, pp_df_0005]"
   ]
  },
  {
   "cell_type": "code",
   "execution_count": 17,
   "metadata": {},
   "outputs": [],
   "source": [
    "# 3. 데이터 전처리\n",
    "#   b. 학습 데이터 셋 생성\n",
    "\n",
    "# import copy\n",
    "\n",
    "# for pp_df in pp_df_list:\n",
    "#     vnames = [name for name in globals() if globals()[name] is pp_df][0]\n",
    "#     code_name = vnames.split(\"_\")[-1]\n",
    "#     x = pp_df.drop([\"STATUS_MS\"], axis = \"columns\")\n",
    "#     y = pp_df[\"STATUS_MS\"]\n",
    "#     x_train, x_test, y_train, y_test = train_test_split(x, y, test_size=0.3,\n",
    "#                                                    random_state=0, stratify=y)\n",
    "#     globals()[\"x_train_{}\".format(code_name)] = copy.deepcopy(x_train)\n",
    "#     globals()[\"x_test_{}\".format(code_name)] = copy.deepcopy(x_test)\n",
    "#     globals()[\"y_train_{}\".format(code_name)] = copy.deepcopy(y_train)\n",
    "#     globals()[\"y_test_{}\".format(code_name)] = copy.deepcopy(y_test)"
   ]
  },
  {
   "cell_type": "code",
   "execution_count": 18,
   "metadata": {},
   "outputs": [],
   "source": [
    "# train_data_list = [\n",
    "#     {x : x_train_0003, y : y_train_0003},\n",
    "#     {x : x_train_0004, y : y_train_0004},\n",
    "#     {x : x_train_0005, y : y_train_0005}\n",
    "# ]\n",
    "# x_train_list = [x_train_0003, x_train_0004, x_train_0005]\n",
    "# y_train_list = [y_train_0003, y_train_0004, y_train_0005] "
   ]
  },
  {
   "cell_type": "markdown",
   "metadata": {},
   "source": [
    "## 학습 모델 생성\n",
    "~~~\n",
    "모델 종류 : XGBoost, CatBoost\n",
    "~~~\n",
    "\n",
    "> * ### 1. 데이터 불러오기\n",
    "> * ### 2. 데이터 확인\n",
    ">   * ##### a. DVC 별 .info() 확인\n",
    ">   * ##### b. 정상/비정상 별 데이터 개수 확인\n",
    "> * #### 3. 데이터 전처리\n",
    ">   * ##### a. 문자열 칼럼 삭제\n",
    ">   * ##### b. 학습 데이터 셋 생성"
   ]
  },
  {
   "cell_type": "code",
   "execution_count": 21,
   "metadata": {},
   "outputs": [
    {
     "name": "stderr",
     "output_type": "stream",
     "text": [
      "is_sparse is deprecated and will be removed in a future version. Check `isinstance(dtype, pd.SparseDtype)` instead.\n",
      "is_categorical_dtype is deprecated and will be removed in a future version. Use isinstance(dtype, CategoricalDtype) instead\n",
      "is_categorical_dtype is deprecated and will be removed in a future version. Use isinstance(dtype, CategoricalDtype) instead\n",
      "is_categorical_dtype is deprecated and will be removed in a future version. Use isinstance(dtype, CategoricalDtype) instead\n",
      "is_sparse is deprecated and will be removed in a future version. Check `isinstance(dtype, pd.SparseDtype)` instead.\n",
      "is_sparse is deprecated and will be removed in a future version. Check `isinstance(dtype, pd.SparseDtype)` instead.\n",
      "is_categorical_dtype is deprecated and will be removed in a future version. Use isinstance(dtype, CategoricalDtype) instead\n",
      "is_categorical_dtype is deprecated and will be removed in a future version. Use isinstance(dtype, CategoricalDtype) instead\n",
      "is_categorical_dtype is deprecated and will be removed in a future version. Use isinstance(dtype, CategoricalDtype) instead\n",
      "is_sparse is deprecated and will be removed in a future version. Check `isinstance(dtype, pd.SparseDtype)` instead.\n",
      "is_sparse is deprecated and will be removed in a future version. Check `isinstance(dtype, pd.SparseDtype)` instead.\n",
      "is_categorical_dtype is deprecated and will be removed in a future version. Use isinstance(dtype, CategoricalDtype) instead\n",
      "is_categorical_dtype is deprecated and will be removed in a future version. Use isinstance(dtype, CategoricalDtype) instead\n",
      "is_categorical_dtype is deprecated and will be removed in a future version. Use isinstance(dtype, CategoricalDtype) instead\n",
      "is_sparse is deprecated and will be removed in a future version. Check `isinstance(dtype, pd.SparseDtype)` instead.\n"
     ]
    }
   ],
   "source": [
    "for train_df in pp_df_list:\n",
    "    vnames = [name for name in globals() if globals()[name] is train_df][0]\n",
    "    x_train = train_df.drop([\"STATUS_MS\"], axis = \"columns\")\n",
    "    y_train = train_df[\"STATUS_MS\"]\n",
    "\n",
    "    globals()[\"xgb_{}\".format(vnames.split(\"_\")[-1])] = xgboost.XGBClassifier().fit(x_train, y_train)    "
   ]
  },
  {
   "cell_type": "code",
   "execution_count": 5,
   "metadata": {},
   "outputs": [
    {
     "ename": "KeyError",
     "evalue": "\"[''] not found in axis\"",
     "output_type": "error",
     "traceback": [
      "\u001b[0;31m---------------------------------------------------------------------------\u001b[0m",
      "\u001b[0;31mKeyError\u001b[0m                                  Traceback (most recent call last)",
      "\u001b[1;32m/Users/isang-yun/code/shap-model/model.ipynb 셀 4\u001b[0m line \u001b[0;36m3\n\u001b[1;32m      <a href='vscode-notebook-cell:/Users/isang-yun/code/shap-model/model.ipynb#W3sZmlsZQ%3D%3D?line=0'>1</a>\u001b[0m \u001b[39m# 예시 데이터 import \u001b[39;00m\n\u001b[1;32m      <a href='vscode-notebook-cell:/Users/isang-yun/code/shap-model/model.ipynb#W3sZmlsZQ%3D%3D?line=1'>2</a>\u001b[0m \u001b[39m# 예시 모델 학습\u001b[39;00m\n\u001b[0;32m----> <a href='vscode-notebook-cell:/Users/isang-yun/code/shap-model/model.ipynb#W3sZmlsZQ%3D%3D?line=2'>3</a>\u001b[0m x \u001b[39m=\u001b[39m df\u001b[39m.\u001b[39;49mdrop(\u001b[39m\"\u001b[39;49m\u001b[39m\"\u001b[39;49m)\n\u001b[1;32m      <a href='vscode-notebook-cell:/Users/isang-yun/code/shap-model/model.ipynb#W3sZmlsZQ%3D%3D?line=4'>5</a>\u001b[0m model \u001b[39m=\u001b[39m xgboost\u001b[39m.\u001b[39mXGBRegressor()\u001b[39m.\u001b[39mfit(X, y)\n",
      "File \u001b[0;32m~/miniconda3/envs/shap_model_env/lib/python3.9/site-packages/pandas/core/frame.py:5347\u001b[0m, in \u001b[0;36mDataFrame.drop\u001b[0;34m(self, labels, axis, index, columns, level, inplace, errors)\u001b[0m\n\u001b[1;32m   5199\u001b[0m \u001b[39mdef\u001b[39;00m \u001b[39mdrop\u001b[39m(\n\u001b[1;32m   5200\u001b[0m     \u001b[39mself\u001b[39m,\n\u001b[1;32m   5201\u001b[0m     labels: IndexLabel \u001b[39m|\u001b[39m \u001b[39mNone\u001b[39;00m \u001b[39m=\u001b[39m \u001b[39mNone\u001b[39;00m,\n\u001b[0;32m   (...)\u001b[0m\n\u001b[1;32m   5208\u001b[0m     errors: IgnoreRaise \u001b[39m=\u001b[39m \u001b[39m\"\u001b[39m\u001b[39mraise\u001b[39m\u001b[39m\"\u001b[39m,\n\u001b[1;32m   5209\u001b[0m ) \u001b[39m-\u001b[39m\u001b[39m>\u001b[39m DataFrame \u001b[39m|\u001b[39m \u001b[39mNone\u001b[39;00m:\n\u001b[1;32m   5210\u001b[0m \u001b[39m    \u001b[39m\u001b[39m\"\"\"\u001b[39;00m\n\u001b[1;32m   5211\u001b[0m \u001b[39m    Drop specified labels from rows or columns.\u001b[39;00m\n\u001b[1;32m   5212\u001b[0m \n\u001b[0;32m   (...)\u001b[0m\n\u001b[1;32m   5345\u001b[0m \u001b[39m            weight  1.0     0.8\u001b[39;00m\n\u001b[1;32m   5346\u001b[0m \u001b[39m    \"\"\"\u001b[39;00m\n\u001b[0;32m-> 5347\u001b[0m     \u001b[39mreturn\u001b[39;00m \u001b[39msuper\u001b[39;49m()\u001b[39m.\u001b[39;49mdrop(\n\u001b[1;32m   5348\u001b[0m         labels\u001b[39m=\u001b[39;49mlabels,\n\u001b[1;32m   5349\u001b[0m         axis\u001b[39m=\u001b[39;49maxis,\n\u001b[1;32m   5350\u001b[0m         index\u001b[39m=\u001b[39;49mindex,\n\u001b[1;32m   5351\u001b[0m         columns\u001b[39m=\u001b[39;49mcolumns,\n\u001b[1;32m   5352\u001b[0m         level\u001b[39m=\u001b[39;49mlevel,\n\u001b[1;32m   5353\u001b[0m         inplace\u001b[39m=\u001b[39;49minplace,\n\u001b[1;32m   5354\u001b[0m         errors\u001b[39m=\u001b[39;49merrors,\n\u001b[1;32m   5355\u001b[0m     )\n",
      "File \u001b[0;32m~/miniconda3/envs/shap_model_env/lib/python3.9/site-packages/pandas/core/generic.py:4711\u001b[0m, in \u001b[0;36mNDFrame.drop\u001b[0;34m(self, labels, axis, index, columns, level, inplace, errors)\u001b[0m\n\u001b[1;32m   4709\u001b[0m \u001b[39mfor\u001b[39;00m axis, labels \u001b[39min\u001b[39;00m axes\u001b[39m.\u001b[39mitems():\n\u001b[1;32m   4710\u001b[0m     \u001b[39mif\u001b[39;00m labels \u001b[39mis\u001b[39;00m \u001b[39mnot\u001b[39;00m \u001b[39mNone\u001b[39;00m:\n\u001b[0;32m-> 4711\u001b[0m         obj \u001b[39m=\u001b[39m obj\u001b[39m.\u001b[39;49m_drop_axis(labels, axis, level\u001b[39m=\u001b[39;49mlevel, errors\u001b[39m=\u001b[39;49merrors)\n\u001b[1;32m   4713\u001b[0m \u001b[39mif\u001b[39;00m inplace:\n\u001b[1;32m   4714\u001b[0m     \u001b[39mself\u001b[39m\u001b[39m.\u001b[39m_update_inplace(obj)\n",
      "File \u001b[0;32m~/miniconda3/envs/shap_model_env/lib/python3.9/site-packages/pandas/core/generic.py:4753\u001b[0m, in \u001b[0;36mNDFrame._drop_axis\u001b[0;34m(self, labels, axis, level, errors, only_slice)\u001b[0m\n\u001b[1;32m   4751\u001b[0m         new_axis \u001b[39m=\u001b[39m axis\u001b[39m.\u001b[39mdrop(labels, level\u001b[39m=\u001b[39mlevel, errors\u001b[39m=\u001b[39merrors)\n\u001b[1;32m   4752\u001b[0m     \u001b[39melse\u001b[39;00m:\n\u001b[0;32m-> 4753\u001b[0m         new_axis \u001b[39m=\u001b[39m axis\u001b[39m.\u001b[39;49mdrop(labels, errors\u001b[39m=\u001b[39;49merrors)\n\u001b[1;32m   4754\u001b[0m     indexer \u001b[39m=\u001b[39m axis\u001b[39m.\u001b[39mget_indexer(new_axis)\n\u001b[1;32m   4756\u001b[0m \u001b[39m# Case for non-unique axis\u001b[39;00m\n\u001b[1;32m   4757\u001b[0m \u001b[39melse\u001b[39;00m:\n",
      "File \u001b[0;32m~/miniconda3/envs/shap_model_env/lib/python3.9/site-packages/pandas/core/indexes/base.py:6992\u001b[0m, in \u001b[0;36mIndex.drop\u001b[0;34m(self, labels, errors)\u001b[0m\n\u001b[1;32m   6990\u001b[0m \u001b[39mif\u001b[39;00m mask\u001b[39m.\u001b[39many():\n\u001b[1;32m   6991\u001b[0m     \u001b[39mif\u001b[39;00m errors \u001b[39m!=\u001b[39m \u001b[39m\"\u001b[39m\u001b[39mignore\u001b[39m\u001b[39m\"\u001b[39m:\n\u001b[0;32m-> 6992\u001b[0m         \u001b[39mraise\u001b[39;00m \u001b[39mKeyError\u001b[39;00m(\u001b[39mf\u001b[39m\u001b[39m\"\u001b[39m\u001b[39m{\u001b[39;00mlabels[mask]\u001b[39m.\u001b[39mtolist()\u001b[39m}\u001b[39;00m\u001b[39m not found in axis\u001b[39m\u001b[39m\"\u001b[39m)\n\u001b[1;32m   6993\u001b[0m     indexer \u001b[39m=\u001b[39m indexer[\u001b[39m~\u001b[39mmask]\n\u001b[1;32m   6994\u001b[0m \u001b[39mreturn\u001b[39;00m \u001b[39mself\u001b[39m\u001b[39m.\u001b[39mdelete(indexer)\n",
      "\u001b[0;31mKeyError\u001b[0m: \"[''] not found in axis\""
     ]
    }
   ],
   "source": [
    "# 예시 데이터 import \n",
    "# 예시 모델 학습\n",
    "x = df.drop(\"\")\n",
    "\n",
    "model = xgboost.XGBRegressor().fit(X, y)"
   ]
  },
  {
   "cell_type": "code",
   "execution_count": 23,
   "metadata": {},
   "outputs": [
    {
     "name": "stdout",
     "output_type": "stream",
     "text": [
      "<class 'xgboost.sklearn.XGBClassifier'>\n"
     ]
    }
   ],
   "source": [
    "print(type(xgb_0003))"
   ]
  },
  {
   "cell_type": "code",
   "execution_count": 24,
   "metadata": {},
   "outputs": [
    {
     "name": "stderr",
     "output_type": "stream",
     "text": [
      "[00:12:57] WARNING: /Users/runner/work/xgboost/xgboost/src/c_api/c_api.cc:1240: Saving into deprecated binary model format, please consider using `json` or `ubj`. Model format will default to JSON in XGBoost 2.2 if not specified.\n",
      "is_sparse is deprecated and will be removed in a future version. Check `isinstance(dtype, pd.SparseDtype)` instead.\n",
      "is_categorical_dtype is deprecated and will be removed in a future version. Use isinstance(dtype, CategoricalDtype) instead\n",
      "is_categorical_dtype is deprecated and will be removed in a future version. Use isinstance(dtype, CategoricalDtype) instead\n",
      "is_categorical_dtype is deprecated and will be removed in a future version. Use isinstance(dtype, CategoricalDtype) instead\n"
     ]
    }
   ],
   "source": [
    "explainer = shap.Explainer(xgb_0003)\n",
    "shap_values = explainer(pp_df_0003.drop([\"STATUS_MS\"], axis = \"columns\"))"
   ]
  },
  {
   "cell_type": "code",
   "execution_count": 26,
   "metadata": {},
   "outputs": [
    {
     "name": "stdout",
     "output_type": "stream",
     "text": [
      "{'op_history': [], 'compute_time': 0.01924300193786621, 'output_dims': (), '_s': Slicer({'o': [], 'values': array([[-2.0645633 ,  0.3229129 ,  3.4250062 , -0.17508136],\n",
      "       [-0.1587886 , -0.6946155 ,  0.46563995, -0.18548098],\n",
      "       [ 8.874442  , -0.21311583,  3.1282141 , -0.09238403],\n",
      "       ...,\n",
      "       [ 2.711311  , -0.3008216 , -1.2592615 , -0.14786682],\n",
      "       [ 1.8276973 , -0.3396507 , -1.6782764 , -0.11290564],\n",
      "       [-4.5272784 , -0.6454306 , -3.9130943 , -0.17274114]],\n",
      "      dtype=float32), 'base_values': array([22.530926, 22.530926, 22.530926, 22.530926, 22.530926, 22.530926,\n",
      "       22.530926, 22.530926, 22.530926, 22.530926, 22.530926, 22.530926,\n",
      "       22.530926, 22.530926, 22.530926, 22.530926, 22.530926, 22.530926,\n",
      "       22.530926, 22.530926, 22.530926, 22.530926, 22.530926, 22.530926,\n",
      "       22.530926, 22.530926, 22.530926, 22.530926, 22.530926, 22.530926,\n",
      "       22.530926, 22.530926, 22.530926, 22.530926, 22.530926, 22.530926,\n",
      "       22.530926, 22.530926, 22.530926, 22.530926, 22.530926, 22.530926,\n",
      "       22.530926, 22.530926, 22.530926, 22.530926, 22.530926, 22.530926,\n",
      "       22.530926, 22.530926, 22.530926, 22.530926, 22.530926, 22.530926,\n",
      "       22.530926, 22.530926, 22.530926, 22.530926, 22.530926, 22.530926,\n",
      "       22.530926, 22.530926, 22.530926, 22.530926, 22.530926, 22.530926,\n",
      "       22.530926, 22.530926, 22.530926, 22.530926, 22.530926, 22.530926,\n",
      "       22.530926, 22.530926, 22.530926, 22.530926, 22.530926, 22.530926,\n",
      "       22.530926, 22.530926, 22.530926, 22.530926, 22.530926, 22.530926,\n",
      "       22.530926, 22.530926, 22.530926, 22.530926, 22.530926, 22.530926,\n",
      "       22.530926, 22.530926, 22.530926, 22.530926, 22.530926, 22.530926,\n",
      "       22.530926, 22.530926, 22.530926, 22.530926, 22.530926, 22.530926,\n",
      "       22.530926, 22.530926, 22.530926, 22.530926, 22.530926, 22.530926,\n",
      "       22.530926, 22.530926, 22.530926, 22.530926, 22.530926, 22.530926,\n",
      "       22.530926, 22.530926, 22.530926, 22.530926, 22.530926, 22.530926,\n",
      "       22.530926, 22.530926, 22.530926, 22.530926, 22.530926, 22.530926,\n",
      "       22.530926, 22.530926, 22.530926, 22.530926, 22.530926, 22.530926,\n",
      "       22.530926, 22.530926, 22.530926, 22.530926, 22.530926, 22.530926,\n",
      "       22.530926, 22.530926, 22.530926, 22.530926, 22.530926, 22.530926,\n",
      "       22.530926, 22.530926, 22.530926, 22.530926, 22.530926, 22.530926,\n",
      "       22.530926, 22.530926, 22.530926, 22.530926, 22.530926, 22.530926,\n",
      "       22.530926, 22.530926, 22.530926, 22.530926, 22.530926, 22.530926,\n",
      "       22.530926, 22.530926, 22.530926, 22.530926, 22.530926, 22.530926,\n",
      "       22.530926, 22.530926, 22.530926, 22.530926, 22.530926, 22.530926,\n",
      "       22.530926, 22.530926, 22.530926, 22.530926, 22.530926, 22.530926,\n",
      "       22.530926, 22.530926, 22.530926, 22.530926, 22.530926, 22.530926,\n",
      "       22.530926, 22.530926, 22.530926, 22.530926, 22.530926, 22.530926,\n",
      "       22.530926, 22.530926, 22.530926, 22.530926, 22.530926, 22.530926,\n",
      "       22.530926, 22.530926, 22.530926, 22.530926, 22.530926, 22.530926,\n",
      "       22.530926, 22.530926, 22.530926, 22.530926, 22.530926, 22.530926,\n",
      "       22.530926, 22.530926, 22.530926, 22.530926, 22.530926, 22.530926,\n",
      "       22.530926, 22.530926, 22.530926, 22.530926, 22.530926, 22.530926,\n",
      "       22.530926, 22.530926, 22.530926, 22.530926, 22.530926, 22.530926,\n",
      "       22.530926, 22.530926, 22.530926, 22.530926, 22.530926, 22.530926,\n",
      "       22.530926, 22.530926, 22.530926, 22.530926, 22.530926, 22.530926,\n",
      "       22.530926, 22.530926, 22.530926, 22.530926, 22.530926, 22.530926,\n",
      "       22.530926, 22.530926, 22.530926, 22.530926, 22.530926, 22.530926,\n",
      "       22.530926, 22.530926, 22.530926, 22.530926, 22.530926, 22.530926,\n",
      "       22.530926, 22.530926, 22.530926, 22.530926, 22.530926, 22.530926,\n",
      "       22.530926, 22.530926, 22.530926, 22.530926, 22.530926, 22.530926,\n",
      "       22.530926, 22.530926, 22.530926, 22.530926, 22.530926, 22.530926,\n",
      "       22.530926, 22.530926, 22.530926, 22.530926, 22.530926, 22.530926,\n",
      "       22.530926, 22.530926, 22.530926, 22.530926, 22.530926, 22.530926,\n",
      "       22.530926, 22.530926, 22.530926, 22.530926, 22.530926, 22.530926,\n",
      "       22.530926, 22.530926, 22.530926, 22.530926, 22.530926, 22.530926,\n",
      "       22.530926, 22.530926, 22.530926, 22.530926, 22.530926, 22.530926,\n",
      "       22.530926, 22.530926, 22.530926, 22.530926, 22.530926, 22.530926,\n",
      "       22.530926, 22.530926, 22.530926, 22.530926, 22.530926, 22.530926,\n",
      "       22.530926, 22.530926, 22.530926, 22.530926, 22.530926, 22.530926,\n",
      "       22.530926, 22.530926, 22.530926, 22.530926, 22.530926, 22.530926,\n",
      "       22.530926, 22.530926, 22.530926, 22.530926, 22.530926, 22.530926,\n",
      "       22.530926, 22.530926, 22.530926, 22.530926, 22.530926, 22.530926,\n",
      "       22.530926, 22.530926, 22.530926, 22.530926, 22.530926, 22.530926,\n",
      "       22.530926, 22.530926, 22.530926, 22.530926, 22.530926, 22.530926,\n",
      "       22.530926, 22.530926, 22.530926, 22.530926, 22.530926, 22.530926,\n",
      "       22.530926, 22.530926, 22.530926, 22.530926, 22.530926, 22.530926,\n",
      "       22.530926, 22.530926, 22.530926, 22.530926, 22.530926, 22.530926,\n",
      "       22.530926, 22.530926, 22.530926, 22.530926, 22.530926, 22.530926,\n",
      "       22.530926, 22.530926, 22.530926, 22.530926, 22.530926, 22.530926,\n",
      "       22.530926, 22.530926, 22.530926, 22.530926, 22.530926, 22.530926,\n",
      "       22.530926, 22.530926, 22.530926, 22.530926, 22.530926, 22.530926,\n",
      "       22.530926, 22.530926, 22.530926, 22.530926, 22.530926, 22.530926,\n",
      "       22.530926, 22.530926, 22.530926, 22.530926, 22.530926, 22.530926,\n",
      "       22.530926, 22.530926, 22.530926, 22.530926, 22.530926, 22.530926,\n",
      "       22.530926, 22.530926, 22.530926, 22.530926, 22.530926, 22.530926,\n",
      "       22.530926, 22.530926, 22.530926, 22.530926, 22.530926, 22.530926,\n",
      "       22.530926, 22.530926, 22.530926, 22.530926, 22.530926, 22.530926,\n",
      "       22.530926, 22.530926, 22.530926, 22.530926, 22.530926, 22.530926,\n",
      "       22.530926, 22.530926, 22.530926, 22.530926, 22.530926, 22.530926,\n",
      "       22.530926, 22.530926, 22.530926, 22.530926, 22.530926, 22.530926,\n",
      "       22.530926, 22.530926, 22.530926, 22.530926, 22.530926, 22.530926,\n",
      "       22.530926, 22.530926, 22.530926, 22.530926, 22.530926, 22.530926,\n",
      "       22.530926, 22.530926, 22.530926, 22.530926, 22.530926, 22.530926,\n",
      "       22.530926, 22.530926, 22.530926, 22.530926, 22.530926, 22.530926,\n",
      "       22.530926, 22.530926, 22.530926, 22.530926, 22.530926, 22.530926,\n",
      "       22.530926, 22.530926, 22.530926, 22.530926, 22.530926, 22.530926,\n",
      "       22.530926, 22.530926, 22.530926, 22.530926, 22.530926, 22.530926,\n",
      "       22.530926, 22.530926, 22.530926, 22.530926, 22.530926, 22.530926,\n",
      "       22.530926, 22.530926, 22.530926, 22.530926, 22.530926, 22.530926,\n",
      "       22.530926, 22.530926], dtype=float32), 'data': array([[6.3200e-03, 1.8000e+01, 2.3100e+00, 0.0000e+00],\n",
      "       [2.7310e-02, 0.0000e+00, 7.0700e+00, 0.0000e+00],\n",
      "       [2.7290e-02, 0.0000e+00, 7.0700e+00, 0.0000e+00],\n",
      "       ...,\n",
      "       [6.0760e-02, 0.0000e+00, 1.1930e+01, 0.0000e+00],\n",
      "       [1.0959e-01, 0.0000e+00, 1.1930e+01, 0.0000e+00],\n",
      "       [4.7410e-02, 0.0000e+00, 1.1930e+01, 0.0000e+00]]), 'display_data': None, 'instance_names': None, 'output_names': None, 'output_indexes': None, 'lower_bounds': None, 'upper_bounds': None, 'error_std': None, 'main_effects': None, 'hierarchical_values': None, 'clustering': None})}\n"
     ]
    }
   ],
   "source": [
    "print(shap_values.__dict__)"
   ]
  },
  {
   "cell_type": "code",
   "execution_count": 25,
   "metadata": {},
   "outputs": [
    {
     "data": {
      "image/png": "[encoded data removed]",
      "text/plain": [
       "<Figure size 800x650 with 3 Axes>"
      ]
     },
     "metadata": {},
     "output_type": "display_data"
    }
   ],
   "source": [
    "shap.plots.waterfall(shap_values[0])"
   ]
  },
  {
   "cell_type": "code",
   "execution_count": 28,
   "metadata": {},
   "outputs": [
    {
     "name": "stdout",
     "output_type": "stream",
     "text": [
      "{'op_history': [{'name': '__getitem__', 'args': ((0,),), 'prev_shape': (506, 4)}], 'compute_time': None, 'output_dims': (), '_s': Slicer({'o': [], 'values': array([-2.0645633 ,  0.3229129 ,  3.4250062 , -0.17508136], dtype=float32), 'base_values': 22.530926, 'data': array([6.32e-03, 1.80e+01, 2.31e+00, 0.00e+00]), 'display_data': None, 'instance_names': None, 'output_names': None, 'output_indexes': None, 'lower_bounds': None, 'upper_bounds': None, 'error_std': None, 'main_effects': None, 'hierarchical_values': None, 'clustering': None})}\n"
     ]
    }
   ],
   "source": [
    "print(shap_values[0].__dict__)"
   ]
  },
  {
   "cell_type": "code",
   "execution_count": 31,
   "metadata": {},
   "outputs": [
    {
     "data": {
      "text/plain": [
       "Index(['CRIM', 'ZN', 'INDUS', 'CHAS'], dtype='object')"
      ]
     },
     "execution_count": 31,
     "metadata": {},
     "output_type": "execute_result"
    }
   ],
   "source": [
    "X.columns"
   ]
  },
  {
   "cell_type": "code",
   "execution_count": null,
   "metadata": {},
   "outputs": [],
   "source": []
  }
 ],
 "metadata": {
  "kernelspec": {
   "display_name": "dev_shap_model",
   "language": "python",
   "name": "python3"
  },
  "language_info": {
   "codemirror_mode": {
    "name": "ipython",
    "version": 3
   },
   "file_extension": ".py",
   "mimetype": "text/x-python",
   "name": "python",
   "nbconvert_exporter": "python",
   "pygments_lexer": "ipython3",
   "version": "3.9.17"
  },
  "orig_nbformat": 4
 },
 "nbformat": 4,
 "nbformat_minor": 2
}
